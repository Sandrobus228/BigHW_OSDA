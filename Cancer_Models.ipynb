{
 "cells": [
  {
   "cell_type": "code",
   "execution_count": 1,
   "id": "f1b9d971",
   "metadata": {},
   "outputs": [],
   "source": [
    "import pandas as pd\n",
    "import numpy as np\n",
    "from numpy import random\n",
    "import matplotlib.pyplot as plt\n",
    "from sklearn.metrics import accuracy_score, f1_score\n",
    "from sklearn.model_selection import KFold, StratifiedKFold\n",
    "from sklearn.ensemble import RandomForestClassifier\n",
    "from sklearn.model_selection import GridSearchCV\n",
    "\n",
    "from sklearn.model_selection import train_test_split\n",
    "import fcalc"
   ]
  },
  {
   "cell_type": "markdown",
   "id": "1a115305",
   "metadata": {},
   "source": [
    "## Binarized data"
   ]
  },
  {
   "cell_type": "code",
   "execution_count": 2,
   "id": "82b0436a",
   "metadata": {},
   "outputs": [
    {
     "data": {
      "text/html": [
       "<div>\n",
       "<style scoped>\n",
       "    .dataframe tbody tr th:only-of-type {\n",
       "        vertical-align: middle;\n",
       "    }\n",
       "\n",
       "    .dataframe tbody tr th {\n",
       "        vertical-align: top;\n",
       "    }\n",
       "\n",
       "    .dataframe thead th {\n",
       "        text-align: right;\n",
       "    }\n",
       "</style>\n",
       "<table border=\"1\" class=\"dataframe\">\n",
       "  <thead>\n",
       "    <tr style=\"text-align: right;\">\n",
       "      <th></th>\n",
       "      <th>mean_radius</th>\n",
       "      <th>mean_texture</th>\n",
       "      <th>mean_perimeter</th>\n",
       "      <th>mean_area</th>\n",
       "      <th>mean_smoothness</th>\n",
       "      <th>diagnosis</th>\n",
       "    </tr>\n",
       "  </thead>\n",
       "  <tbody>\n",
       "    <tr>\n",
       "      <th>0</th>\n",
       "      <td>17.99</td>\n",
       "      <td>10.38</td>\n",
       "      <td>122.80</td>\n",
       "      <td>1001.0</td>\n",
       "      <td>0.11840</td>\n",
       "      <td>False</td>\n",
       "    </tr>\n",
       "    <tr>\n",
       "      <th>1</th>\n",
       "      <td>20.57</td>\n",
       "      <td>17.77</td>\n",
       "      <td>132.90</td>\n",
       "      <td>1326.0</td>\n",
       "      <td>0.08474</td>\n",
       "      <td>False</td>\n",
       "    </tr>\n",
       "    <tr>\n",
       "      <th>2</th>\n",
       "      <td>19.69</td>\n",
       "      <td>21.25</td>\n",
       "      <td>130.00</td>\n",
       "      <td>1203.0</td>\n",
       "      <td>0.10960</td>\n",
       "      <td>False</td>\n",
       "    </tr>\n",
       "    <tr>\n",
       "      <th>3</th>\n",
       "      <td>11.42</td>\n",
       "      <td>20.38</td>\n",
       "      <td>77.58</td>\n",
       "      <td>386.1</td>\n",
       "      <td>0.14250</td>\n",
       "      <td>False</td>\n",
       "    </tr>\n",
       "    <tr>\n",
       "      <th>4</th>\n",
       "      <td>20.29</td>\n",
       "      <td>14.34</td>\n",
       "      <td>135.10</td>\n",
       "      <td>1297.0</td>\n",
       "      <td>0.10030</td>\n",
       "      <td>False</td>\n",
       "    </tr>\n",
       "  </tbody>\n",
       "</table>\n",
       "</div>"
      ],
      "text/plain": [
       "   mean_radius  mean_texture  mean_perimeter  mean_area  mean_smoothness  \\\n",
       "0        17.99         10.38          122.80     1001.0          0.11840   \n",
       "1        20.57         17.77          132.90     1326.0          0.08474   \n",
       "2        19.69         21.25          130.00     1203.0          0.10960   \n",
       "3        11.42         20.38           77.58      386.1          0.14250   \n",
       "4        20.29         14.34          135.10     1297.0          0.10030   \n",
       "\n",
       "   diagnosis  \n",
       "0      False  \n",
       "1      False  \n",
       "2      False  \n",
       "3      False  \n",
       "4      False  "
      ]
     },
     "execution_count": 2,
     "metadata": {},
     "output_type": "execute_result"
    }
   ],
   "source": [
    "df = pd.read_csv(\"Breast_cancer_data.csv\")\n",
    "df['diagnosis'] = [x == 1 for x in df['diagnosis']]\n",
    "df.head()"
   ]
  },
  {
   "cell_type": "code",
   "execution_count": 3,
   "id": "5c22dc2a",
   "metadata": {},
   "outputs": [],
   "source": [
    "quartiles = [0.9, 0.8, 0.7, 0.6, 0.5, 0.4, 0.3, 0.2, 0.1, 0]\n",
    "vals = []\n",
    "\n",
    "for i in df.columns.values[:-1]:\n",
    "    qs = []\n",
    "    for j in quartiles:\n",
    "        qs.append(df[i].quantile(j))\n",
    "    vals.append(qs)\n",
    "    \n",
    "def quantiles(x, lis):\n",
    "    for i in lis:\n",
    "        if x > i:\n",
    "            return f'>{i}'"
   ]
  },
  {
   "cell_type": "code",
   "execution_count": 4,
   "id": "f06bd6a4",
   "metadata": {},
   "outputs": [],
   "source": [
    "df['mean_radius'] = df['mean_radius'].apply(lambda x: quantiles(x = x, lis = vals[0]))\n",
    "df['mean_texture'] = df['mean_texture'].apply(lambda x: quantiles(x = x, lis = vals[1]))\n",
    "df['mean_perimeter'] = df['mean_perimeter'].apply(lambda x: quantiles(x = x, lis = vals[2]))\n",
    "df['mean_area'] = df['mean_area'].apply(lambda x: quantiles(x = x, lis = vals[3]))\n",
    "df['mean_smoothness'] = df['mean_smoothness'].apply(lambda x: quantiles(x = x, lis = vals[4]))"
   ]
  },
  {
   "cell_type": "code",
   "execution_count": 5,
   "id": "2a667ca1",
   "metadata": {},
   "outputs": [
    {
     "data": {
      "text/html": [
       "<div>\n",
       "<style scoped>\n",
       "    .dataframe tbody tr th:only-of-type {\n",
       "        vertical-align: middle;\n",
       "    }\n",
       "\n",
       "    .dataframe tbody tr th {\n",
       "        vertical-align: top;\n",
       "    }\n",
       "\n",
       "    .dataframe thead th {\n",
       "        text-align: right;\n",
       "    }\n",
       "</style>\n",
       "<table border=\"1\" class=\"dataframe\">\n",
       "  <thead>\n",
       "    <tr style=\"text-align: right;\">\n",
       "      <th></th>\n",
       "      <th>mean_radius</th>\n",
       "      <th>mean_texture</th>\n",
       "      <th>mean_perimeter</th>\n",
       "      <th>mean_area</th>\n",
       "      <th>mean_smoothness</th>\n",
       "      <th>diagnosis</th>\n",
       "    </tr>\n",
       "  </thead>\n",
       "  <tbody>\n",
       "    <tr>\n",
       "      <th>0</th>\n",
       "      <td>&gt;17.067999999999998</td>\n",
       "      <td>&gt;9.71</td>\n",
       "      <td>&gt;111.68</td>\n",
       "      <td>&gt;915.0600000000003</td>\n",
       "      <td>&gt;0.11482</td>\n",
       "      <td>False</td>\n",
       "    </tr>\n",
       "    <tr>\n",
       "      <th>1</th>\n",
       "      <td>&gt;19.53</td>\n",
       "      <td>&gt;16.84</td>\n",
       "      <td>&gt;129.1</td>\n",
       "      <td>&gt;1177.3999999999999</td>\n",
       "      <td>&gt;0.08420599999999999</td>\n",
       "      <td>False</td>\n",
       "    </tr>\n",
       "    <tr>\n",
       "      <th>2</th>\n",
       "      <td>&gt;19.53</td>\n",
       "      <td>&gt;19.968</td>\n",
       "      <td>&gt;129.1</td>\n",
       "      <td>&gt;1177.3999999999999</td>\n",
       "      <td>&gt;0.1075</td>\n",
       "      <td>False</td>\n",
       "    </tr>\n",
       "    <tr>\n",
       "      <th>3</th>\n",
       "      <td>&gt;11.366</td>\n",
       "      <td>&gt;19.968</td>\n",
       "      <td>&gt;77.36</td>\n",
       "      <td>&gt;321.6</td>\n",
       "      <td>&gt;0.11482</td>\n",
       "      <td>False</td>\n",
       "    </tr>\n",
       "    <tr>\n",
       "      <th>4</th>\n",
       "      <td>&gt;19.53</td>\n",
       "      <td>&gt;14.078</td>\n",
       "      <td>&gt;129.1</td>\n",
       "      <td>&gt;1177.3999999999999</td>\n",
       "      <td>&gt;0.099338</td>\n",
       "      <td>False</td>\n",
       "    </tr>\n",
       "  </tbody>\n",
       "</table>\n",
       "</div>"
      ],
      "text/plain": [
       "           mean_radius mean_texture mean_perimeter            mean_area  \\\n",
       "0  >17.067999999999998        >9.71        >111.68   >915.0600000000003   \n",
       "1               >19.53       >16.84         >129.1  >1177.3999999999999   \n",
       "2               >19.53      >19.968         >129.1  >1177.3999999999999   \n",
       "3              >11.366      >19.968         >77.36               >321.6   \n",
       "4               >19.53      >14.078         >129.1  >1177.3999999999999   \n",
       "\n",
       "        mean_smoothness  diagnosis  \n",
       "0              >0.11482      False  \n",
       "1  >0.08420599999999999      False  \n",
       "2               >0.1075      False  \n",
       "3              >0.11482      False  \n",
       "4             >0.099338      False  "
      ]
     },
     "execution_count": 5,
     "metadata": {},
     "output_type": "execute_result"
    }
   ],
   "source": [
    "column_names = df.columns.values[:-1]\n",
    "df.head()"
   ]
  },
  {
   "cell_type": "code",
   "execution_count": 6,
   "id": "db905794",
   "metadata": {
    "scrolled": true
   },
   "outputs": [],
   "source": [
    "X = pd.get_dummies(data=df, prefix=column_names).astype(bool)"
   ]
  },
  {
   "cell_type": "code",
   "execution_count": 7,
   "id": "2a1db1db",
   "metadata": {},
   "outputs": [],
   "source": [
    "X_train, X_test, y_train, y_test = train_test_split(\n",
    "                                                    X.drop([\"diagnosis\"], axis=1), \n",
    "                                                    X[\"diagnosis\"], \n",
    "                                                    test_size=0.3, \n",
    "                                                    random_state=1337, \n",
    "                                                    stratify=X[\"diagnosis\"], \n",
    "                                        )"
   ]
  },
  {
   "cell_type": "code",
   "execution_count": 8,
   "id": "62f80a21",
   "metadata": {
    "scrolled": true
   },
   "outputs": [
    {
     "name": "stdout",
     "output_type": "stream",
     "text": [
      "standard: mean: 0.8718987341772151, max: 0.9, min: 0.8125\n",
      "standard-support: mean: 0.8668670886075949, max: 0.8875, min: 0.8125\n",
      "ratio-support: mean: 0.8717088607594936, max: 0.9375, min: 0.8227848101265823\n",
      "0.8888888888888888\n",
      "0.9035532994923858\n"
     ]
    }
   ],
   "source": [
    "from sklearn.model_selection import KFold, StratifiedKFold\n",
    "\n",
    "X_train_matrix = X_train.values\n",
    "\n",
    "kfold = StratifiedKFold(n_splits=5, random_state=100, shuffle=True)\n",
    "\n",
    "for i in ['standard', 'standard-support', 'ratio-support']:\n",
    "    score_accuracy = []\n",
    "    \n",
    "    for array1, array2 in kfold.split(X_train_matrix, y_train):   \n",
    "        x_train_cv = X_train_matrix[array1]\n",
    "        y_train_cv = np.array(y_train)[list(array1)]\n",
    "\n",
    "        x_test_cv = X_train_matrix[array2]\n",
    "        y_test_cv = np.array(y_train)[list(array2)]\n",
    "\n",
    "        bin_cls = fcalc.classifier.BinarizedBinaryClassifier(x_train_cv, y_train_cv, method=i)\n",
    "        bin_cls.predict(x_test_cv)\n",
    "        y_pred_cv = bin_cls.predictions\n",
    "\n",
    "        score_accuracy.append(accuracy_score(y_test_cv, y_pred_cv))\n",
    "    \n",
    "    print(f'{i}: mean: {np.array(score_accuracy).mean()}, max: {max(score_accuracy)}, min: {min(score_accuracy)}')\n",
    "    \n",
    "    \n",
    "bin_cls = fcalc.classifier.BinarizedBinaryClassifier(X_train_matrix, y_train, method='ratio-support')\n",
    "bin_cls.predict(X_test.values)\n",
    "y_pred = bin_cls.predictions\n",
    "\n",
    "print(accuracy_score(y_test, y_pred))\n",
    "print(f1_score(y_test, y_pred))\n",
    "\n",
    "accuracy_fcalc = accuracy_score(y_test, y_pred)\n",
    "f1_fcalc = f1_score(y_test, y_pred)"
   ]
  },
  {
   "cell_type": "markdown",
   "id": "260f9cc3",
   "metadata": {},
   "source": [
    "## Pattern structures"
   ]
  },
  {
   "cell_type": "code",
   "execution_count": 9,
   "id": "f1efa1b0",
   "metadata": {},
   "outputs": [
    {
     "data": {
      "text/html": [
       "<div>\n",
       "<style scoped>\n",
       "    .dataframe tbody tr th:only-of-type {\n",
       "        vertical-align: middle;\n",
       "    }\n",
       "\n",
       "    .dataframe tbody tr th {\n",
       "        vertical-align: top;\n",
       "    }\n",
       "\n",
       "    .dataframe thead th {\n",
       "        text-align: right;\n",
       "    }\n",
       "</style>\n",
       "<table border=\"1\" class=\"dataframe\">\n",
       "  <thead>\n",
       "    <tr style=\"text-align: right;\">\n",
       "      <th></th>\n",
       "      <th>mean_radius</th>\n",
       "      <th>mean_texture</th>\n",
       "      <th>mean_perimeter</th>\n",
       "      <th>mean_area</th>\n",
       "      <th>mean_smoothness</th>\n",
       "      <th>diagnosis</th>\n",
       "    </tr>\n",
       "  </thead>\n",
       "  <tbody>\n",
       "    <tr>\n",
       "      <th>0</th>\n",
       "      <td>17.99</td>\n",
       "      <td>10.38</td>\n",
       "      <td>122.80</td>\n",
       "      <td>1001.0</td>\n",
       "      <td>0.11840</td>\n",
       "      <td>False</td>\n",
       "    </tr>\n",
       "    <tr>\n",
       "      <th>1</th>\n",
       "      <td>20.57</td>\n",
       "      <td>17.77</td>\n",
       "      <td>132.90</td>\n",
       "      <td>1326.0</td>\n",
       "      <td>0.08474</td>\n",
       "      <td>False</td>\n",
       "    </tr>\n",
       "    <tr>\n",
       "      <th>2</th>\n",
       "      <td>19.69</td>\n",
       "      <td>21.25</td>\n",
       "      <td>130.00</td>\n",
       "      <td>1203.0</td>\n",
       "      <td>0.10960</td>\n",
       "      <td>False</td>\n",
       "    </tr>\n",
       "    <tr>\n",
       "      <th>3</th>\n",
       "      <td>11.42</td>\n",
       "      <td>20.38</td>\n",
       "      <td>77.58</td>\n",
       "      <td>386.1</td>\n",
       "      <td>0.14250</td>\n",
       "      <td>False</td>\n",
       "    </tr>\n",
       "    <tr>\n",
       "      <th>4</th>\n",
       "      <td>20.29</td>\n",
       "      <td>14.34</td>\n",
       "      <td>135.10</td>\n",
       "      <td>1297.0</td>\n",
       "      <td>0.10030</td>\n",
       "      <td>False</td>\n",
       "    </tr>\n",
       "  </tbody>\n",
       "</table>\n",
       "</div>"
      ],
      "text/plain": [
       "   mean_radius  mean_texture  mean_perimeter  mean_area  mean_smoothness  \\\n",
       "0        17.99         10.38          122.80     1001.0          0.11840   \n",
       "1        20.57         17.77          132.90     1326.0          0.08474   \n",
       "2        19.69         21.25          130.00     1203.0          0.10960   \n",
       "3        11.42         20.38           77.58      386.1          0.14250   \n",
       "4        20.29         14.34          135.10     1297.0          0.10030   \n",
       "\n",
       "   diagnosis  \n",
       "0      False  \n",
       "1      False  \n",
       "2      False  \n",
       "3      False  \n",
       "4      False  "
      ]
     },
     "execution_count": 9,
     "metadata": {},
     "output_type": "execute_result"
    }
   ],
   "source": [
    "df = pd.read_csv(\"Breast_cancer_data.csv\")\n",
    "df['diagnosis'] = [x == 1 for x in df['diagnosis']]\n",
    "column_names = df.columns.values[:-1]\n",
    "df.head()"
   ]
  },
  {
   "cell_type": "code",
   "execution_count": 10,
   "id": "ee355775",
   "metadata": {},
   "outputs": [],
   "source": [
    "X_train, X_test, y_train, y_test = train_test_split(\n",
    "                                                    df.drop([\"diagnosis\"], axis=1), \n",
    "                                                    df[\"diagnosis\"], \n",
    "                                                    test_size=0.3, \n",
    "                                                    random_state=1337,\n",
    "                                                    stratify=X[\"diagnosis\"],\n",
    "                                        )"
   ]
  },
  {
   "cell_type": "code",
   "execution_count": 11,
   "id": "0a12711e",
   "metadata": {},
   "outputs": [
    {
     "name": "stdout",
     "output_type": "stream",
     "text": [
      "standard: mean: 0.9095569620253166, max: 0.925, min: 0.8875\n",
      "standard-support: mean: 0.9095569620253166, max: 0.925, min: 0.8875\n",
      "ratio-support: mean: 0.9095569620253166, max: 0.925, min: 0.8875\n"
     ]
    }
   ],
   "source": [
    "X_train_matrix = X_train.values\n",
    "\n",
    "kfold = StratifiedKFold(n_splits=5, random_state=100, shuffle=True)\n",
    "\n",
    "for i in ['standard', 'standard-support', 'ratio-support']:\n",
    "    score_accuracy = []\n",
    "    \n",
    "    for array1, array2 in kfold.split(X_train_matrix, y_train):   \n",
    "        x_train_cv = X_train_matrix[array1]\n",
    "        y_train_cv = np.array(y_train)[list(array1)]\n",
    "\n",
    "        x_test_cv = X_train_matrix[array2]\n",
    "        y_test_cv = np.array(y_train)[list(array2)]\n",
    "        \n",
    "        pat_cls = fcalc.classifier.PatternBinaryClassifier(x_train_cv, y_train_cv)\n",
    "        pat_cls.predict(x_test_cv)\n",
    "        \n",
    "        y_pred_cv = pat_cls.predictions\n",
    "\n",
    "        score_accuracy.append(accuracy_score(y_test_cv, y_pred_cv))\n",
    "    \n",
    "    print(f'{i}: mean: {np.array(score_accuracy).mean()}, max: {max(score_accuracy)}, min: {min(score_accuracy)}')"
   ]
  },
  {
   "cell_type": "code",
   "execution_count": 12,
   "id": "3ff5ec54",
   "metadata": {},
   "outputs": [],
   "source": [
    "pat_cls = fcalc.classifier.PatternBinaryClassifier(X_train_matrix, y_train)\n",
    "pat_cls.predict(X_test.values)\n",
    "\n",
    "y_pred = pat_cls.predictions\n",
    "\n",
    "y_pred = [np.random.choice([0,1]) if i == -1 else i for i in y_pred]\n",
    "accuracy_fcalc_stru = accuracy_score(y_test, y_pred)\n",
    "f1_fcalc_stru = f1_score(y_test, y_pred)\n"
   ]
  },
  {
   "cell_type": "markdown",
   "id": "eaf54f0e",
   "metadata": {},
   "source": [
    "# Другие модели"
   ]
  },
  {
   "cell_type": "code",
   "execution_count": 13,
   "id": "e249942c",
   "metadata": {
    "scrolled": true
   },
   "outputs": [
    {
     "data": {
      "text/html": [
       "<div>\n",
       "<style scoped>\n",
       "    .dataframe tbody tr th:only-of-type {\n",
       "        vertical-align: middle;\n",
       "    }\n",
       "\n",
       "    .dataframe tbody tr th {\n",
       "        vertical-align: top;\n",
       "    }\n",
       "\n",
       "    .dataframe thead th {\n",
       "        text-align: right;\n",
       "    }\n",
       "</style>\n",
       "<table border=\"1\" class=\"dataframe\">\n",
       "  <thead>\n",
       "    <tr style=\"text-align: right;\">\n",
       "      <th></th>\n",
       "      <th>mean_radius</th>\n",
       "      <th>mean_texture</th>\n",
       "      <th>mean_perimeter</th>\n",
       "      <th>mean_area</th>\n",
       "      <th>mean_smoothness</th>\n",
       "      <th>diagnosis</th>\n",
       "    </tr>\n",
       "  </thead>\n",
       "  <tbody>\n",
       "    <tr>\n",
       "      <th>0</th>\n",
       "      <td>17.99</td>\n",
       "      <td>10.38</td>\n",
       "      <td>122.80</td>\n",
       "      <td>1001.0</td>\n",
       "      <td>0.11840</td>\n",
       "      <td>0</td>\n",
       "    </tr>\n",
       "    <tr>\n",
       "      <th>1</th>\n",
       "      <td>20.57</td>\n",
       "      <td>17.77</td>\n",
       "      <td>132.90</td>\n",
       "      <td>1326.0</td>\n",
       "      <td>0.08474</td>\n",
       "      <td>0</td>\n",
       "    </tr>\n",
       "    <tr>\n",
       "      <th>2</th>\n",
       "      <td>19.69</td>\n",
       "      <td>21.25</td>\n",
       "      <td>130.00</td>\n",
       "      <td>1203.0</td>\n",
       "      <td>0.10960</td>\n",
       "      <td>0</td>\n",
       "    </tr>\n",
       "    <tr>\n",
       "      <th>3</th>\n",
       "      <td>11.42</td>\n",
       "      <td>20.38</td>\n",
       "      <td>77.58</td>\n",
       "      <td>386.1</td>\n",
       "      <td>0.14250</td>\n",
       "      <td>0</td>\n",
       "    </tr>\n",
       "    <tr>\n",
       "      <th>4</th>\n",
       "      <td>20.29</td>\n",
       "      <td>14.34</td>\n",
       "      <td>135.10</td>\n",
       "      <td>1297.0</td>\n",
       "      <td>0.10030</td>\n",
       "      <td>0</td>\n",
       "    </tr>\n",
       "  </tbody>\n",
       "</table>\n",
       "</div>"
      ],
      "text/plain": [
       "   mean_radius  mean_texture  mean_perimeter  mean_area  mean_smoothness  \\\n",
       "0        17.99         10.38          122.80     1001.0          0.11840   \n",
       "1        20.57         17.77          132.90     1326.0          0.08474   \n",
       "2        19.69         21.25          130.00     1203.0          0.10960   \n",
       "3        11.42         20.38           77.58      386.1          0.14250   \n",
       "4        20.29         14.34          135.10     1297.0          0.10030   \n",
       "\n",
       "   diagnosis  \n",
       "0          0  \n",
       "1          0  \n",
       "2          0  \n",
       "3          0  \n",
       "4          0  "
      ]
     },
     "execution_count": 13,
     "metadata": {},
     "output_type": "execute_result"
    }
   ],
   "source": [
    "df = pd.read_csv(\"Breast_cancer_data.csv\")\n",
    "df.head()"
   ]
  },
  {
   "cell_type": "code",
   "execution_count": 14,
   "id": "329cacbd",
   "metadata": {},
   "outputs": [],
   "source": [
    "X_train, X_test, y_train, y_test = train_test_split(\n",
    "                                                    df.drop([\"diagnosis\"], axis=1), \n",
    "                                                    df[\"diagnosis\"], \n",
    "                                                    test_size=0.3, \n",
    "                                                    random_state=1337, \n",
    "                                                    stratify=X[\"diagnosis\"],\n",
    "                                        )"
   ]
  },
  {
   "cell_type": "code",
   "execution_count": 15,
   "id": "0b6c3508",
   "metadata": {},
   "outputs": [],
   "source": [
    "from sklearn.preprocessing import OrdinalEncoder\n",
    "from scipy import sparse as sp\n",
    "\n",
    "def prepare_features_for_logic(data: pd.DataFrame):\n",
    "    \n",
    "    real_columns = ['mean_radius','mean_texture','mean_perimeter','mean_area','mean_smoothness']\n",
    "    \n",
    "    X_real = data[real_columns].values    \n",
    "    feature_matrix = np.vstack(X_real) \n",
    "    \n",
    "    return feature_matrix\n",
    "\n",
    "X_train_dense = prepare_features_for_logic(X_train)\n",
    "X_test_dense = prepare_features_for_logic(X_test)"
   ]
  },
  {
   "cell_type": "code",
   "execution_count": 16,
   "id": "faf32b74",
   "metadata": {},
   "outputs": [
    {
     "name": "stdout",
     "output_type": "stream",
     "text": [
      "0.9320388349514562\n",
      "0.9181286549707602\n"
     ]
    }
   ],
   "source": [
    "from sklearn.ensemble import RandomForestClassifier\n",
    "from sklearn.tree import DecisionTreeClassifier\n",
    "\n",
    "# Дерево решений\n",
    "clf = DecisionTreeClassifier(max_depth=4, class_weight=\"balanced\").fit(X_train_dense, y_train)\n",
    "y_pred = clf.predict(X_test_dense)\n",
    "print(f1_score(y_test, y_pred))\n",
    "print(accuracy_score(y_test, y_pred))\n",
    "\n",
    "accuracy_tree = accuracy_score(y_test, y_pred)\n",
    "f1_tree = f1_score(y_test, y_pred)"
   ]
  },
  {
   "cell_type": "code",
   "execution_count": 17,
   "id": "015d6bb8",
   "metadata": {},
   "outputs": [
    {
     "name": "stdout",
     "output_type": "stream",
     "text": [
      "# Tuning for f1\n",
      "\n",
      "Fitting 3 folds for each of 24 candidates, totalling 72 fits\n",
      "Best params on dev set:\n",
      "{'max_samples': 0.3, 'min_samples_leaf': 1, 'n_estimators': 50}\n",
      "Scores on development set:\n",
      "0.923 (+/-0.019) for {'max_samples': 0.3, 'min_samples_leaf': 1, 'n_estimators': 10}\n",
      "0.933 (+/-0.031) for {'max_samples': 0.3, 'min_samples_leaf': 1, 'n_estimators': 50}\n",
      "0.931 (+/-0.024) for {'max_samples': 0.3, 'min_samples_leaf': 1, 'n_estimators': 100}\n",
      "0.921 (+/-0.020) for {'max_samples': 0.3, 'min_samples_leaf': 2, 'n_estimators': 10}\n",
      "0.927 (+/-0.024) for {'max_samples': 0.3, 'min_samples_leaf': 2, 'n_estimators': 50}\n",
      "0.929 (+/-0.026) for {'max_samples': 0.3, 'min_samples_leaf': 2, 'n_estimators': 100}\n",
      "0.930 (+/-0.030) for {'max_samples': 0.3, 'min_samples_leaf': 3, 'n_estimators': 10}\n",
      "0.922 (+/-0.026) for {'max_samples': 0.3, 'min_samples_leaf': 3, 'n_estimators': 50}\n",
      "0.925 (+/-0.028) for {'max_samples': 0.3, 'min_samples_leaf': 3, 'n_estimators': 100}\n",
      "0.918 (+/-0.024) for {'max_samples': 0.3, 'min_samples_leaf': 5, 'n_estimators': 10}\n",
      "0.911 (+/-0.025) for {'max_samples': 0.3, 'min_samples_leaf': 5, 'n_estimators': 50}\n",
      "0.913 (+/-0.025) for {'max_samples': 0.3, 'min_samples_leaf': 5, 'n_estimators': 100}\n",
      "0.916 (+/-0.054) for {'max_samples': None, 'min_samples_leaf': 1, 'n_estimators': 10}\n",
      "0.931 (+/-0.038) for {'max_samples': None, 'min_samples_leaf': 1, 'n_estimators': 50}\n",
      "0.931 (+/-0.038) for {'max_samples': None, 'min_samples_leaf': 1, 'n_estimators': 100}\n",
      "0.918 (+/-0.065) for {'max_samples': None, 'min_samples_leaf': 2, 'n_estimators': 10}\n",
      "0.928 (+/-0.044) for {'max_samples': None, 'min_samples_leaf': 2, 'n_estimators': 50}\n",
      "0.930 (+/-0.048) for {'max_samples': None, 'min_samples_leaf': 2, 'n_estimators': 100}\n",
      "0.928 (+/-0.043) for {'max_samples': None, 'min_samples_leaf': 3, 'n_estimators': 10}\n",
      "0.922 (+/-0.045) for {'max_samples': None, 'min_samples_leaf': 3, 'n_estimators': 50}\n",
      "0.928 (+/-0.046) for {'max_samples': None, 'min_samples_leaf': 3, 'n_estimators': 100}\n",
      "0.923 (+/-0.035) for {'max_samples': None, 'min_samples_leaf': 5, 'n_estimators': 10}\n",
      "0.926 (+/-0.042) for {'max_samples': None, 'min_samples_leaf': 5, 'n_estimators': 50}\n",
      "0.924 (+/-0.051) for {'max_samples': None, 'min_samples_leaf': 5, 'n_estimators': 100}\n",
      "# Tuning for accuracy\n",
      "\n",
      "Fitting 3 folds for each of 24 candidates, totalling 72 fits\n",
      "Best params on dev set:\n",
      "{'max_samples': 0.3, 'min_samples_leaf': 1, 'n_estimators': 50}\n",
      "Scores on development set:\n",
      "0.902 (+/-0.025) for {'max_samples': 0.3, 'min_samples_leaf': 1, 'n_estimators': 10}\n",
      "0.915 (+/-0.040) for {'max_samples': 0.3, 'min_samples_leaf': 1, 'n_estimators': 50}\n",
      "0.912 (+/-0.032) for {'max_samples': 0.3, 'min_samples_leaf': 1, 'n_estimators': 100}\n",
      "0.899 (+/-0.029) for {'max_samples': 0.3, 'min_samples_leaf': 2, 'n_estimators': 10}\n",
      "0.907 (+/-0.032) for {'max_samples': 0.3, 'min_samples_leaf': 2, 'n_estimators': 50}\n",
      "0.909 (+/-0.033) for {'max_samples': 0.3, 'min_samples_leaf': 2, 'n_estimators': 100}\n",
      "0.912 (+/-0.036) for {'max_samples': 0.3, 'min_samples_leaf': 3, 'n_estimators': 10}\n",
      "0.902 (+/-0.033) for {'max_samples': 0.3, 'min_samples_leaf': 3, 'n_estimators': 50}\n",
      "0.904 (+/-0.036) for {'max_samples': 0.3, 'min_samples_leaf': 3, 'n_estimators': 100}\n",
      "0.897 (+/-0.029) for {'max_samples': 0.3, 'min_samples_leaf': 5, 'n_estimators': 10}\n",
      "0.889 (+/-0.029) for {'max_samples': 0.3, 'min_samples_leaf': 5, 'n_estimators': 50}\n",
      "0.892 (+/-0.032) for {'max_samples': 0.3, 'min_samples_leaf': 5, 'n_estimators': 100}\n",
      "0.894 (+/-0.066) for {'max_samples': None, 'min_samples_leaf': 1, 'n_estimators': 10}\n",
      "0.912 (+/-0.047) for {'max_samples': None, 'min_samples_leaf': 1, 'n_estimators': 50}\n",
      "0.912 (+/-0.047) for {'max_samples': None, 'min_samples_leaf': 1, 'n_estimators': 100}\n",
      "0.897 (+/-0.080) for {'max_samples': None, 'min_samples_leaf': 2, 'n_estimators': 10}\n",
      "0.909 (+/-0.054) for {'max_samples': None, 'min_samples_leaf': 2, 'n_estimators': 50}\n",
      "0.912 (+/-0.059) for {'max_samples': None, 'min_samples_leaf': 2, 'n_estimators': 100}\n",
      "0.909 (+/-0.054) for {'max_samples': None, 'min_samples_leaf': 3, 'n_estimators': 10}\n",
      "0.902 (+/-0.054) for {'max_samples': None, 'min_samples_leaf': 3, 'n_estimators': 50}\n",
      "0.909 (+/-0.057) for {'max_samples': None, 'min_samples_leaf': 3, 'n_estimators': 100}\n",
      "0.902 (+/-0.045) for {'max_samples': None, 'min_samples_leaf': 5, 'n_estimators': 10}\n",
      "0.907 (+/-0.052) for {'max_samples': None, 'min_samples_leaf': 5, 'n_estimators': 50}\n",
      "0.904 (+/-0.063) for {'max_samples': None, 'min_samples_leaf': 5, 'n_estimators': 100}\n",
      "0.9716981132075471\n",
      "0.9649122807017544\n"
     ]
    }
   ],
   "source": [
    "# Случайный лес\n",
    "\n",
    "param_grid = {\n",
    "    \"n_estimators\": [10, 50, 100],\n",
    "    \"min_samples_leaf\": [1, 2, 3, 5],\n",
    "    \"max_samples\": [0.3, None]\n",
    "}\n",
    "param_grid\n",
    "\n",
    "scores = [\"f1\", \"accuracy\"]\n",
    "\n",
    "for score in scores:\n",
    "    print(\"# Tuning for %s\" % score)\n",
    "    print()\n",
    "    # loo = LeaveOneOut()\n",
    "\n",
    "    clf = GridSearchCV(RandomForestClassifier(n_jobs=-1, random_state=100, class_weight='balanced_subsample'), \n",
    "                       param_grid, scoring=score, verbose=1, cv=3)\n",
    "\n",
    "    clf.fit(X_train_dense, y_train)\n",
    "\n",
    "    print(\"Best params on dev set:\")\n",
    "    print(clf.best_params_)\n",
    "    \n",
    "    print(\"Scores on development set:\")\n",
    "    means = clf.cv_results_['mean_test_score']\n",
    "    stds = clf.cv_results_['std_test_score']\n",
    "\n",
    "    for mean, std, params in zip(means, stds, clf.cv_results_['params']):\n",
    "        print(\"%0.3f (+/-%0.03f) for %r\" % (mean, std * 2, params))\n",
    "    \n",
    "    best_model = clf.best_estimator_\n",
    "    best_model.fit(X_train_dense, y_train)\n",
    "    \n",
    "y_pred = best_model.predict(X_test_dense)\n",
    "print(f1_score(y_test, y_pred))\n",
    "print(accuracy_score(y_test, y_pred))\n",
    "\n",
    "accuracy_forest = accuracy_score(y_test, y_pred)\n",
    "f1_forest = f1_score(y_test, y_pred)"
   ]
  },
  {
   "cell_type": "code",
   "execution_count": 18,
   "id": "4a65bdf8",
   "metadata": {},
   "outputs": [],
   "source": [
    "from sklearn.neighbors import KNeighborsClassifier"
   ]
  },
  {
   "cell_type": "code",
   "execution_count": 19,
   "id": "bfaec2f6",
   "metadata": {},
   "outputs": [
    {
     "data": {
      "text/plain": [
       "((398, 5), (171, 5))"
      ]
     },
     "execution_count": 19,
     "metadata": {},
     "output_type": "execute_result"
    }
   ],
   "source": [
    "from sklearn.preprocessing import OneHotEncoder\n",
    "from sklearn.preprocessing import StandardScaler\n",
    "from scipy import sparse as sp\n",
    "\n",
    "# Не все классификаторы умеют обращаться с категориальными признаками. \n",
    "def prepare_features_for_logreg(data: pd.DataFrame, real_scaler=None):\n",
    "    \n",
    "    real_columns = ['mean_radius','mean_texture','mean_perimeter','mean_area','mean_smoothness']\n",
    "    \n",
    "    # real-valued features\n",
    "    if real_scaler is None:\n",
    "        stsc = StandardScaler()\n",
    "        stsc.fit(data[real_columns])\n",
    "    else:\n",
    "        stsc = real_scaler\n",
    "    X_real = stsc.transform(data[real_columns])\n",
    "    feature_matrix = np.vstack(X_real)\n",
    "    \n",
    "    return feature_matrix\n",
    "\n",
    "X_train_sparse = prepare_features_for_logreg(X_train)\n",
    "X_test_sparse = prepare_features_for_logreg(X_test)\n",
    "\n",
    "X_train_sparse.shape, X_test_sparse.shape"
   ]
  },
  {
   "cell_type": "code",
   "execution_count": 20,
   "id": "f8b51581",
   "metadata": {},
   "outputs": [
    {
     "data": {
      "text/html": [
       "<style>#sk-container-id-1 {color: black;background-color: white;}#sk-container-id-1 pre{padding: 0;}#sk-container-id-1 div.sk-toggleable {background-color: white;}#sk-container-id-1 label.sk-toggleable__label {cursor: pointer;display: block;width: 100%;margin-bottom: 0;padding: 0.3em;box-sizing: border-box;text-align: center;}#sk-container-id-1 label.sk-toggleable__label-arrow:before {content: \"▸\";float: left;margin-right: 0.25em;color: #696969;}#sk-container-id-1 label.sk-toggleable__label-arrow:hover:before {color: black;}#sk-container-id-1 div.sk-estimator:hover label.sk-toggleable__label-arrow:before {color: black;}#sk-container-id-1 div.sk-toggleable__content {max-height: 0;max-width: 0;overflow: hidden;text-align: left;background-color: #f0f8ff;}#sk-container-id-1 div.sk-toggleable__content pre {margin: 0.2em;color: black;border-radius: 0.25em;background-color: #f0f8ff;}#sk-container-id-1 input.sk-toggleable__control:checked~div.sk-toggleable__content {max-height: 200px;max-width: 100%;overflow: auto;}#sk-container-id-1 input.sk-toggleable__control:checked~label.sk-toggleable__label-arrow:before {content: \"▾\";}#sk-container-id-1 div.sk-estimator input.sk-toggleable__control:checked~label.sk-toggleable__label {background-color: #d4ebff;}#sk-container-id-1 div.sk-label input.sk-toggleable__control:checked~label.sk-toggleable__label {background-color: #d4ebff;}#sk-container-id-1 input.sk-hidden--visually {border: 0;clip: rect(1px 1px 1px 1px);clip: rect(1px, 1px, 1px, 1px);height: 1px;margin: -1px;overflow: hidden;padding: 0;position: absolute;width: 1px;}#sk-container-id-1 div.sk-estimator {font-family: monospace;background-color: #f0f8ff;border: 1px dotted black;border-radius: 0.25em;box-sizing: border-box;margin-bottom: 0.5em;}#sk-container-id-1 div.sk-estimator:hover {background-color: #d4ebff;}#sk-container-id-1 div.sk-parallel-item::after {content: \"\";width: 100%;border-bottom: 1px solid gray;flex-grow: 1;}#sk-container-id-1 div.sk-label:hover label.sk-toggleable__label {background-color: #d4ebff;}#sk-container-id-1 div.sk-serial::before {content: \"\";position: absolute;border-left: 1px solid gray;box-sizing: border-box;top: 0;bottom: 0;left: 50%;z-index: 0;}#sk-container-id-1 div.sk-serial {display: flex;flex-direction: column;align-items: center;background-color: white;padding-right: 0.2em;padding-left: 0.2em;position: relative;}#sk-container-id-1 div.sk-item {position: relative;z-index: 1;}#sk-container-id-1 div.sk-parallel {display: flex;align-items: stretch;justify-content: center;background-color: white;position: relative;}#sk-container-id-1 div.sk-item::before, #sk-container-id-1 div.sk-parallel-item::before {content: \"\";position: absolute;border-left: 1px solid gray;box-sizing: border-box;top: 0;bottom: 0;left: 50%;z-index: -1;}#sk-container-id-1 div.sk-parallel-item {display: flex;flex-direction: column;z-index: 1;position: relative;background-color: white;}#sk-container-id-1 div.sk-parallel-item:first-child::after {align-self: flex-end;width: 50%;}#sk-container-id-1 div.sk-parallel-item:last-child::after {align-self: flex-start;width: 50%;}#sk-container-id-1 div.sk-parallel-item:only-child::after {width: 0;}#sk-container-id-1 div.sk-dashed-wrapped {border: 1px dashed gray;margin: 0 0.4em 0.5em 0.4em;box-sizing: border-box;padding-bottom: 0.4em;background-color: white;}#sk-container-id-1 div.sk-label label {font-family: monospace;font-weight: bold;display: inline-block;line-height: 1.2em;}#sk-container-id-1 div.sk-label-container {text-align: center;}#sk-container-id-1 div.sk-container {/* jupyter's `normalize.less` sets `[hidden] { display: none; }` but bootstrap.min.css set `[hidden] { display: none !important; }` so we also need the `!important` here to be able to override the default hidden behavior on the sphinx rendered scikit-learn.org. See: https://github.com/scikit-learn/scikit-learn/issues/21755 */display: inline-block !important;position: relative;}#sk-container-id-1 div.sk-text-repr-fallback {display: none;}</style><div id=\"sk-container-id-1\" class=\"sk-top-container\"><div class=\"sk-text-repr-fallback\"><pre>KNeighborsClassifier(n_neighbors=1)</pre><b>In a Jupyter environment, please rerun this cell to show the HTML representation or trust the notebook. <br />On GitHub, the HTML representation is unable to render, please try loading this page with nbviewer.org.</b></div><div class=\"sk-container\" hidden><div class=\"sk-item\"><div class=\"sk-estimator sk-toggleable\"><input class=\"sk-toggleable__control sk-hidden--visually\" id=\"sk-estimator-id-1\" type=\"checkbox\" checked><label for=\"sk-estimator-id-1\" class=\"sk-toggleable__label sk-toggleable__label-arrow\">KNeighborsClassifier</label><div class=\"sk-toggleable__content\"><pre>KNeighborsClassifier(n_neighbors=1)</pre></div></div></div></div></div>"
      ],
      "text/plain": [
       "KNeighborsClassifier(n_neighbors=1)"
      ]
     },
     "execution_count": 20,
     "metadata": {},
     "output_type": "execute_result"
    }
   ],
   "source": [
    "neigh = KNeighborsClassifier(n_neighbors=1)\n",
    "neigh.fit(X_train_sparse, y_train)"
   ]
  },
  {
   "cell_type": "code",
   "execution_count": 21,
   "id": "76e4c284",
   "metadata": {},
   "outputs": [
    {
     "name": "stdout",
     "output_type": "stream",
     "text": [
      "0.9389671361502347\n",
      "0.9239766081871345\n"
     ]
    }
   ],
   "source": [
    "y_pred = neigh.predict(X_test_sparse)\n",
    "print(f1_score(y_test, y_pred))\n",
    "print(accuracy_score(y_test, y_pred))\n",
    "\n",
    "accuracy_knn = accuracy_score(y_test, y_pred)\n",
    "f1_knn = f1_score(y_test, y_pred)"
   ]
  },
  {
   "cell_type": "code",
   "execution_count": 22,
   "id": "8922e2e7",
   "metadata": {},
   "outputs": [
    {
     "name": "stdout",
     "output_type": "stream",
     "text": [
      "0.9674418604651163\n",
      "0.9590643274853801\n"
     ]
    },
    {
     "name": "stderr",
     "output_type": "stream",
     "text": [
      "C:\\Users\\777sa\\anaconda3\\Lib\\site-packages\\sklearn\\linear_model\\_sag.py:350: ConvergenceWarning: The max_iter was reached which means the coef_ did not converge\n",
      "  warnings.warn(\n"
     ]
    }
   ],
   "source": [
    "from sklearn.linear_model import LogisticRegression\n",
    "\n",
    "clf_linear = LogisticRegression(C=0.99, class_weight=\"balanced\", \n",
    "                                solver=\"saga\", penalty=\"l1\")\n",
    "clf_linear.fit(X_train_sparse, y_train)\n",
    "\n",
    "y_pred = clf_linear.predict(X_test_sparse)\n",
    "\n",
    "print(f1_score(y_test, y_pred))\n",
    "print(accuracy_score(y_test, y_pred))\n",
    "\n",
    "accuracy_log = accuracy_score(y_test, y_pred)\n",
    "f1_log = f1_score(y_test, y_pred)"
   ]
  },
  {
   "cell_type": "code",
   "execution_count": 23,
   "id": "547687ce",
   "metadata": {},
   "outputs": [
    {
     "name": "stdout",
     "output_type": "stream",
     "text": [
      "0.9716981132075471\n",
      "0.9649122807017544\n"
     ]
    }
   ],
   "source": [
    "from xgboost import XGBClassifier\n",
    "model = XGBClassifier(use_label_encoder=False, eval_metric='mlogloss')\n",
    "model.fit(X_train_dense, y_train)\n",
    "y_pred = model.predict(X_test_dense)\n",
    "print(f1_score(y_test, y_pred))\n",
    "print(accuracy_score(y_test, y_pred))\n",
    "\n",
    "accuracy_xgb = accuracy_score(y_test, y_pred)\n",
    "f1_xgb = f1_score(y_test, y_pred)"
   ]
  },
  {
   "cell_type": "code",
   "execution_count": 24,
   "id": "a5e67e96",
   "metadata": {},
   "outputs": [
    {
     "name": "stdout",
     "output_type": "stream",
     "text": [
      "Learning rate set to 0.187103\n",
      "0:\tlearn: 0.6088768\ttest: 0.6033559\tbest: 0.6033559 (0)\ttotal: 151ms\tremaining: 1.36s\n",
      "1:\tlearn: 0.5404485\ttest: 0.5322506\tbest: 0.5322506 (1)\ttotal: 154ms\tremaining: 615ms\n",
      "2:\tlearn: 0.4871087\ttest: 0.4758042\tbest: 0.4758042 (2)\ttotal: 156ms\tremaining: 364ms\n",
      "3:\tlearn: 0.4376584\ttest: 0.4244045\tbest: 0.4244045 (3)\ttotal: 159ms\tremaining: 239ms\n",
      "4:\tlearn: 0.4030945\ttest: 0.3830265\tbest: 0.3830265 (4)\ttotal: 163ms\tremaining: 163ms\n",
      "5:\tlearn: 0.3741327\ttest: 0.3531417\tbest: 0.3531417 (5)\ttotal: 166ms\tremaining: 110ms\n",
      "6:\tlearn: 0.3473431\ttest: 0.3227216\tbest: 0.3227216 (6)\ttotal: 169ms\tremaining: 72.3ms\n",
      "7:\tlearn: 0.3246997\ttest: 0.2971962\tbest: 0.2971962 (7)\ttotal: 173ms\tremaining: 43.3ms\n",
      "8:\tlearn: 0.3071884\ttest: 0.2798720\tbest: 0.2798720 (8)\ttotal: 176ms\tremaining: 19.5ms\n",
      "9:\tlearn: 0.2906570\ttest: 0.2633131\tbest: 0.2633131 (9)\ttotal: 178ms\tremaining: 0us\n",
      "\n",
      "bestTest = 0.263313096\n",
      "bestIteration = 9\n",
      "\n",
      "0.9674418604651163\n",
      "0.9590643274853801\n"
     ]
    }
   ],
   "source": [
    "from catboost import CatBoostClassifier\n",
    "clf = CatBoostClassifier(\n",
    "    iterations=10,\n",
    "    #verbose=5,\n",
    ")\n",
    "\n",
    "clf.fit(\n",
    "    X_train, y_train,\n",
    "    eval_set=(X_test, y_test),\n",
    ")\n",
    "\n",
    "y_pred = clf.predict(X_test)\n",
    "print(f1_score(y_test, y_pred))\n",
    "print(accuracy_score(y_test, y_pred))\n",
    "\n",
    "accuracy_cat = accuracy_score(y_test, y_pred)\n",
    "f1_cat = f1_score(y_test, y_pred)"
   ]
  },
  {
   "cell_type": "code",
   "execution_count": 25,
   "id": "5ccd89f5",
   "metadata": {},
   "outputs": [
    {
     "name": "stdout",
     "output_type": "stream",
     "text": [
      "0.948356807511737\n",
      "0.935672514619883\n"
     ]
    }
   ],
   "source": [
    "from sklearn.naive_bayes import GaussianNB\n",
    "\n",
    "model = GaussianNB()\n",
    "\n",
    "model.fit(X_train_dense, y_train)\n",
    "y_pred = model.predict(X_test_dense)\n",
    "\n",
    "print(f1_score(y_test, y_pred))\n",
    "print(accuracy_score(y_test, y_pred))\n",
    "\n",
    "\n",
    "accuracy_bay = accuracy_score(y_test, y_pred)\n",
    "f1_bay = f1_score(y_test, y_pred)"
   ]
  },
  {
   "cell_type": "markdown",
   "id": "973ae740",
   "metadata": {},
   "source": [
    "# Итоги"
   ]
  },
  {
   "cell_type": "code",
   "execution_count": 26,
   "id": "dfc0edac",
   "metadata": {
    "scrolled": false
   },
   "outputs": [
    {
     "name": "stdout",
     "output_type": "stream",
     "text": [
      "Accuracy\n",
      "-------------------\n",
      "Fcalc_Binarized: 0.89\n",
      "Tree: 0.92\n",
      "KNN: 0.92\n",
      "Naive_B: 0.94\n",
      "Fcalc_Structure: 0.95\n",
      "Log_Reg: 0.96\n",
      "Catboost: 0.96\n",
      "RandForest: 0.96\n",
      "XGB: 0.96\n"
     ]
    },
    {
     "data": {
      "image/png": "[encoded data removed]",
      "text/plain": [
       "<Figure size 640x480 with 1 Axes>"
      ]
     },
     "metadata": {},
     "output_type": "display_data"
    }
   ],
   "source": [
    "import operator\n",
    "all_accs = [ accuracy_fcalc\n",
    "            ,accuracy_fcalc_stru\n",
    "            ,accuracy_tree\n",
    "            ,accuracy_forest\n",
    "            ,accuracy_knn\n",
    "            ,accuracy_log\n",
    "            ,accuracy_xgb\n",
    "            ,accuracy_cat\n",
    "            ,accuracy_bay]\n",
    "all_accs_names = [ \n",
    "             'Fcalc_Binarized'\n",
    "            ,'Fcalc_Structure'\n",
    "            ,'Tree'\n",
    "            ,'RandForest'\n",
    "            ,'KNN'\n",
    "            ,'Log_Reg'\n",
    "            ,'XGB'\n",
    "            ,'Catboost'\n",
    "            ,'Naive_B']\n",
    "\n",
    "my_dict = dict(zip(all_accs_names, all_accs))\n",
    "sorted_accs = dict(sorted(my_dict.items(), key=operator.itemgetter(1)))\n",
    "\n",
    "lists = sorted_accs.items() \n",
    "x, y = zip(*lists)\n",
    "\n",
    "print('Accuracy\\n-------------------')\n",
    "for i in lists:\n",
    "    print(i[0],': ', round(i[1],2), sep='')\n",
    "    \n",
    "plt.bar(x = x, height=y)\n",
    "plt.xticks(rotation=90)\n",
    "plt.title('Accuracy');"
   ]
  },
  {
   "cell_type": "code",
   "execution_count": 27,
   "id": "bb2970ee",
   "metadata": {
    "scrolled": true
   },
   "outputs": [
    {
     "name": "stdout",
     "output_type": "stream",
     "text": [
      "F1_Score\n",
      "-------------------\n",
      "Fcalc_Binarized: 0.9\n",
      "Tree: 0.93\n",
      "KNN: 0.94\n",
      "NaiveB: 0.95\n",
      "Fcalc_Structure: 0.96\n",
      "Log_Reg: 0.97\n",
      "Catboost: 0.97\n",
      "RandForest: 0.97\n",
      "XGB: 0.97\n"
     ]
    },
    {
     "data": {
      "image/png": "[encoded data removed]",
      "text/plain": [
       "<Figure size 640x480 with 1 Axes>"
      ]
     },
     "metadata": {},
     "output_type": "display_data"
    }
   ],
   "source": [
    "import operator\n",
    "all_accs = [ f1_fcalc\n",
    "            ,f1_fcalc_stru\n",
    "            ,f1_tree\n",
    "            ,f1_forest\n",
    "            ,f1_knn\n",
    "            ,f1_log\n",
    "            ,f1_xgb\n",
    "            ,f1_cat\n",
    "            ,f1_bay]\n",
    "all_accs_names = [ \n",
    "             'Fcalc_Binarized'\n",
    "            ,'Fcalc_Structure'\n",
    "            ,'Tree'\n",
    "            ,'RandForest'\n",
    "            ,'KNN'\n",
    "            ,'Log_Reg'\n",
    "            ,'XGB'\n",
    "            ,'Catboost'\n",
    "            ,'NaiveB']\n",
    "\n",
    "my_dict = dict(zip(all_accs_names, all_accs))\n",
    "sorted_accs = dict(sorted(my_dict.items(), key=operator.itemgetter(1)))\n",
    "\n",
    "lists = sorted_accs.items() \n",
    "x, y = zip(*lists)\n",
    "\n",
    "print('F1_Score\\n-------------------')\n",
    "for i in lists:\n",
    "    print(i[0],': ', round(i[1],2), sep='')\n",
    "    \n",
    "plt.bar(x = x, height=y)\n",
    "plt.xticks(rotation=90)\n",
    "plt.title('F1 Score');"
   ]
  }
 ],
 "metadata": {
  "kernelspec": {
   "display_name": "Python 3 (ipykernel)",
   "language": "python",
   "name": "python3"
  },
  "language_info": {
   "codemirror_mode": {
    "name": "ipython",
    "version": 3
   },
   "file_extension": ".py",
   "mimetype": "text/x-python",
   "name": "python",
   "nbconvert_exporter": "python",
   "pygments_lexer": "ipython3",
   "version": "3.11.4"
  }
 },
 "nbformat": 4,
 "nbformat_minor": 5
}
